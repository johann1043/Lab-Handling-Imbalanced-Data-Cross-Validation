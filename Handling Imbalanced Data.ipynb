{
 "cells": [
  {
   "cell_type": "code",
   "execution_count": 1,
   "id": "15cbd496-61f2-4556-a7d1-42f526c9bcbf",
   "metadata": {},
   "outputs": [],
   "source": [
    "import numpy as np\n",
    "import pandas as pd\n",
    "import matplotlib.pyplot as plt\n",
    "\n",
    "from sklearn.linear_model import LogisticRegression\n",
    "from sklearn.neighbors import KNeighborsClassifier\n",
    "from sklearn.tree import DecisionTreeClassifier, plot_tree\n",
    "from sklearn.model_selection import train_test_split, cross_val_score, cross_val_predict\n",
    "from sklearn.metrics import accuracy_score, precision_score, recall_score, confusion_matrix, ConfusionMatrixDisplay\n",
    "from sklearn.preprocessing import PowerTransformer"
   ]
  },
  {
   "cell_type": "code",
   "execution_count": 2,
   "id": "3bf03f09-3dad-47a1-8b37-d8600f23b08e",
   "metadata": {},
   "outputs": [],
   "source": [
    "url = 'DATA_Customer-Churn.csv'\n",
    "df = pd.read_csv(url)"
   ]
  },
  {
   "cell_type": "markdown",
   "id": "20d861c7-8327-4774-b9cc-b26d0cb9b3b9",
   "metadata": {},
   "source": [
    "# Lab | Classification, Handling Imbalanced Data"
   ]
  },
  {
   "cell_type": "code",
   "execution_count": 3,
   "id": "3bf8aafd-9ade-4fcd-b7e3-01326737e4f4",
   "metadata": {},
   "outputs": [],
   "source": [
    "df['TotalCharges'] = pd.to_numeric(df['TotalCharges'], errors='coerce')"
   ]
  },
  {
   "cell_type": "code",
   "execution_count": 4,
   "id": "8cea03dc-cc55-4e67-b31d-da0dea0b3309",
   "metadata": {},
   "outputs": [],
   "source": [
    "def null_check(data_frame):\n",
    "    print(f'Total null values per row: \\n{data_frame.isnull().sum(axis=1)}\\n')\n",
    "    print(f'Total null values per column: \\n{data_frame.isnull().sum()}\\n')"
   ]
  },
  {
   "cell_type": "code",
   "execution_count": 5,
   "id": "f7799da2-96c0-4ada-a428-35e5461857cf",
   "metadata": {},
   "outputs": [
    {
     "name": "stdout",
     "output_type": "stream",
     "text": [
      "Total null values per row: \n",
      "0       0\n",
      "1       0\n",
      "2       0\n",
      "3       0\n",
      "4       0\n",
      "       ..\n",
      "7038    0\n",
      "7039    0\n",
      "7040    0\n",
      "7041    0\n",
      "7042    0\n",
      "Length: 7043, dtype: int64\n",
      "\n",
      "Total null values per column: \n",
      "gender               0\n",
      "SeniorCitizen        0\n",
      "Partner              0\n",
      "Dependents           0\n",
      "tenure               0\n",
      "PhoneService         0\n",
      "OnlineSecurity       0\n",
      "OnlineBackup         0\n",
      "DeviceProtection     0\n",
      "TechSupport          0\n",
      "StreamingTV          0\n",
      "StreamingMovies      0\n",
      "Contract             0\n",
      "MonthlyCharges       0\n",
      "TotalCharges        11\n",
      "Churn                0\n",
      "dtype: int64\n",
      "\n"
     ]
    }
   ],
   "source": [
    "null_check(df)"
   ]
  },
  {
   "cell_type": "code",
   "execution_count": 6,
   "id": "4102674d-a563-4c1e-8f1b-feb52a5ff352",
   "metadata": {},
   "outputs": [],
   "source": [
    "# For rows with NaN in TotalCharges, calculate or replace based on the strategy\n",
    "\n",
    "df.loc[(df['TotalCharges'].isna()) & (df['tenure'] > 1), 'TotalCharges'] = df['MonthlyCharges'] * df['tenure']\n",
    "df.loc[(df['TotalCharges'].isna()) & (df['tenure'] <= 1), 'TotalCharges'] = df['MonthlyCharges']"
   ]
  },
  {
   "cell_type": "code",
   "execution_count": 7,
   "id": "d013f183-4569-41ae-80ae-5c8d4ad77241",
   "metadata": {},
   "outputs": [],
   "source": [
    "df.loc[df['Churn'] == 'Yes', 'churn'] = 1\n",
    "df.loc[df['Churn'] == 'No', 'churn'] = 0"
   ]
  },
  {
   "cell_type": "code",
   "execution_count": 8,
   "id": "087705bf-4e4f-404c-98fa-4a70a98f00a3",
   "metadata": {},
   "outputs": [],
   "source": [
    "df_filtered = df[['tenure', 'SeniorCitizen', 'MonthlyCharges', 'TotalCharges', 'churn']]"
   ]
  },
  {
   "cell_type": "markdown",
   "id": "5e44bfe9-5717-4374-8744-b866991ad842",
   "metadata": {},
   "source": [
    "## Split Data"
   ]
  },
  {
   "cell_type": "code",
   "execution_count": 9,
   "id": "353587bd-a632-4518-a594-aa59a268d7c6",
   "metadata": {},
   "outputs": [
    {
     "name": "stdout",
     "output_type": "stream",
     "text": [
      "(7043, 4)\n",
      "(7043,)\n",
      "[0. 1.]\n"
     ]
    }
   ],
   "source": [
    "y = df_filtered['churn']  \n",
    "X = df_filtered.drop(columns=['churn']) \n",
    "\n",
    "X_train, X_test, y_train, y_test = train_test_split(X, y, test_size=0.20, random_state=11)\n",
    "\n",
    "print(X.shape)\n",
    "print(y.shape)\n",
    "\n",
    "# If 'y' is categorical and you want to see the unique classes\n",
    "unique_classes = np.unique(y)\n",
    "print(unique_classes)"
   ]
  },
  {
   "cell_type": "markdown",
   "id": "9d098eaf-3701-4376-a69d-3b060975de13",
   "metadata": {},
   "source": [
    "## Scaling"
   ]
  },
  {
   "cell_type": "code",
   "execution_count": 10,
   "id": "825a3ecf-34c0-49c2-bbff-fa37069abf79",
   "metadata": {},
   "outputs": [],
   "source": [
    "#PowerTransform X_train\n",
    "pt1 = PowerTransformer()\n",
    "X_train = pt1.fit_transform(X_train)\n",
    "#PowerTransform X_test\n",
    "X_test = pt1.transform(X_test)"
   ]
  },
  {
   "cell_type": "code",
   "execution_count": 11,
   "id": "d0ec0223-4bc6-4cbd-bcb8-1caf523bb776",
   "metadata": {},
   "outputs": [],
   "source": [
    "category_0 = df_filtered[df_filtered['churn'] == 0] # negative class (majority)\n",
    "category_1 = df_filtered[df_filtered['churn'] == 1] # positive class (minority)"
   ]
  },
  {
   "cell_type": "code",
   "execution_count": 12,
   "id": "51aea110-c279-48c3-8503-fd8f513e53f0",
   "metadata": {},
   "outputs": [
    {
     "name": "stdout",
     "output_type": "stream",
     "text": [
      "(5174, 5)\n",
      "(1869, 5)\n"
     ]
    }
   ],
   "source": [
    "print(category_0.shape)\n",
    "print(category_1.shape)"
   ]
  },
  {
   "cell_type": "markdown",
   "id": "3ac7ef97-0bb4-49a5-aaa2-9c0a0537229f",
   "metadata": {},
   "source": [
    "## Upsampling using SMOTE"
   ]
  },
  {
   "cell_type": "code",
   "execution_count": 13,
   "id": "9cfa4416-3eff-457f-8cc5-ef915a3c7406",
   "metadata": {},
   "outputs": [],
   "source": [
    "from imblearn.over_sampling import SMOTE\n",
    "smote = SMOTE()"
   ]
  },
  {
   "cell_type": "code",
   "execution_count": 14,
   "id": "1593843b-44ea-4284-9462-afad8d41c8c6",
   "metadata": {},
   "outputs": [
    {
     "data": {
      "text/plain": [
       "churn\n",
       "0.0    1031\n",
       "1.0     378\n",
       "Name: count, dtype: int64"
      ]
     },
     "execution_count": 14,
     "metadata": {},
     "output_type": "execute_result"
    }
   ],
   "source": [
    "y_test.value_counts()"
   ]
  },
  {
   "cell_type": "code",
   "execution_count": 15,
   "id": "a79add23-ed27-4298-9e97-08994eb92c20",
   "metadata": {},
   "outputs": [
    {
     "data": {
      "text/plain": [
       "churn\n",
       "0.0    4143\n",
       "1.0    4143\n",
       "Name: count, dtype: int64"
      ]
     },
     "execution_count": 15,
     "metadata": {},
     "output_type": "execute_result"
    }
   ],
   "source": [
    "X_sm, y_sm = smote.fit_resample(X_train, y_train)\n",
    "y_sm.value_counts()"
   ]
  },
  {
   "cell_type": "code",
   "execution_count": 16,
   "id": "e2d1c593-a876-48ab-8de1-bca8bf870b02",
   "metadata": {},
   "outputs": [
    {
     "data": {
      "text/plain": [
       "churn\n",
       "0.0    1031\n",
       "1.0     378\n",
       "Name: count, dtype: int64"
      ]
     },
     "execution_count": 16,
     "metadata": {},
     "output_type": "execute_result"
    }
   ],
   "source": [
    "y_test.value_counts()"
   ]
  },
  {
   "cell_type": "markdown",
   "id": "46e2ad92-a5a9-4fb3-8e3a-8279d882ea18",
   "metadata": {},
   "source": [
    "## Models Comparison (3 classification estimators)"
   ]
  },
  {
   "cell_type": "code",
   "execution_count": 17,
   "id": "ad9db089-a331-4e15-89d5-5dae572fcc28",
   "metadata": {},
   "outputs": [
    {
     "name": "stdout",
     "output_type": "stream",
     "text": [
      "{'Classification Tree': 0.7745584284657028, 'Logistic Regression': 0.7376257990827666, 'KNN': 0.8421417457736752}\n"
     ]
    }
   ],
   "source": [
    "model1 = DecisionTreeClassifier()\n",
    "model2 = LogisticRegression()\n",
    "model3 = KNeighborsClassifier()\n",
    "\n",
    "model_pipeline = [model1, model2, model3]\n",
    "model_names = ['Classification Tree', 'Logistic Regression', 'KNN']\n",
    "scores = {}\n",
    "i=0\n",
    "for model in model_pipeline:\n",
    "    mean_score = np.mean(cross_val_score(model, X_sm, y_sm, cv=5, scoring='recall'))\n",
    "    scores[model_names[i]] = mean_score\n",
    "    i = i+1\n",
    "print(scores)"
   ]
  },
  {
   "cell_type": "code",
   "execution_count": 18,
   "id": "4547a83c-c7b7-43e5-8c14-8a7d7ec35679",
   "metadata": {},
   "outputs": [
    {
     "name": "stdout",
     "output_type": "stream",
     "text": [
      "Comparing the 3 regression scores we find \n",
      "\n"
     ]
    },
    {
     "data": {
      "text/html": [
       "<div>\n",
       "<style scoped>\n",
       "    .dataframe tbody tr th:only-of-type {\n",
       "        vertical-align: middle;\n",
       "    }\n",
       "\n",
       "    .dataframe tbody tr th {\n",
       "        vertical-align: top;\n",
       "    }\n",
       "\n",
       "    .dataframe thead th {\n",
       "        text-align: right;\n",
       "    }\n",
       "</style>\n",
       "<table border=\"1\" class=\"dataframe\">\n",
       "  <thead>\n",
       "    <tr style=\"text-align: right;\">\n",
       "      <th></th>\n",
       "      <th>Classification Tree</th>\n",
       "      <th>Logistic Regression</th>\n",
       "      <th>KNN</th>\n",
       "    </tr>\n",
       "  </thead>\n",
       "  <tbody>\n",
       "    <tr>\n",
       "      <th>score</th>\n",
       "      <td>0.774558</td>\n",
       "      <td>0.737626</td>\n",
       "      <td>0.842142</td>\n",
       "    </tr>\n",
       "  </tbody>\n",
       "</table>\n",
       "</div>"
      ],
      "text/plain": [
       "       Classification Tree  Logistic Regression       KNN\n",
       "score             0.774558             0.737626  0.842142"
      ]
     },
     "execution_count": 18,
     "metadata": {},
     "output_type": "execute_result"
    }
   ],
   "source": [
    "print(\"Comparing the 3 regression scores we find \\n\")\n",
    "\n",
    "pd.DataFrame([scores], index=[\"score\"])"
   ]
  },
  {
   "cell_type": "markdown",
   "id": "9113ebe6-7a3c-439b-88c3-a40522dea6a0",
   "metadata": {},
   "source": [
    "# KNN"
   ]
  },
  {
   "cell_type": "code",
   "execution_count": 20,
   "id": "abc45234-ae69-4e42-b82d-da8c640c8068",
   "metadata": {},
   "outputs": [
    {
     "data": {
      "text/html": [
       "<div>\n",
       "<style scoped>\n",
       "    .dataframe tbody tr th:only-of-type {\n",
       "        vertical-align: middle;\n",
       "    }\n",
       "\n",
       "    .dataframe tbody tr th {\n",
       "        vertical-align: top;\n",
       "    }\n",
       "\n",
       "    .dataframe thead th {\n",
       "        text-align: right;\n",
       "    }\n",
       "</style>\n",
       "<table border=\"1\" class=\"dataframe\">\n",
       "  <thead>\n",
       "    <tr style=\"text-align: right;\">\n",
       "      <th></th>\n",
       "      <th>Error_metric</th>\n",
       "      <th>Train</th>\n",
       "      <th>Test</th>\n",
       "    </tr>\n",
       "  </thead>\n",
       "  <tbody>\n",
       "    <tr>\n",
       "      <th>0</th>\n",
       "      <td>Accuracy</td>\n",
       "      <td>0.853729</td>\n",
       "      <td>0.721079</td>\n",
       "    </tr>\n",
       "    <tr>\n",
       "      <th>1</th>\n",
       "      <td>Precision</td>\n",
       "      <td>0.821734</td>\n",
       "      <td>0.485769</td>\n",
       "    </tr>\n",
       "    <tr>\n",
       "      <th>2</th>\n",
       "      <td>Recall</td>\n",
       "      <td>0.903452</td>\n",
       "      <td>0.677249</td>\n",
       "    </tr>\n",
       "  </tbody>\n",
       "</table>\n",
       "</div>"
      ],
      "text/plain": [
       "  Error_metric     Train      Test\n",
       "0     Accuracy  0.853729  0.721079\n",
       "1    Precision  0.821734  0.485769\n",
       "2       Recall  0.903452  0.677249"
      ]
     },
     "metadata": {},
     "output_type": "display_data"
    }
   ],
   "source": [
    "model = KNeighborsClassifier(n_neighbors=5, weights='uniform') # declare we're using knn classification model\n",
    "model.fit(X_sm, y_sm) # train model\n",
    "y_pred = model.predict(X_test) # predict test, removed .values\n",
    "y_pred_train = model.predict(X_sm) # predict train (for sanity checks), removed .values\n",
    "\n",
    "performance_log = pd.DataFrame({'Error_metric': ['Accuracy', 'Precision', 'Recall'],\n",
    "                                'Train': [accuracy_score(y_sm, y_pred_train),\n",
    "                                          precision_score(y_sm, y_pred_train),\n",
    "                                          recall_score(y_sm, y_pred_train)],\n",
    "                                'Test': [accuracy_score(y_test, y_pred),\n",
    "                                         precision_score(y_test, y_pred),\n",
    "                                         recall_score(y_test, y_pred)]})\n",
    "\n",
    "display(performance_log)\n"
   ]
  },
  {
   "cell_type": "code",
   "execution_count": 21,
   "id": "5308db8f-ccfb-405d-9c89-e47aab0bcfe3",
   "metadata": {},
   "outputs": [
    {
     "data": {
      "text/plain": [
       "0.8537291817523533"
      ]
     },
     "execution_count": 21,
     "metadata": {},
     "output_type": "execute_result"
    }
   ],
   "source": [
    "accuracy_score(y_sm, y_pred_train)"
   ]
  },
  {
   "cell_type": "code",
   "execution_count": null,
   "id": "085bc80c-7006-4fbb-b50f-584c9e5d3314",
   "metadata": {},
   "outputs": [],
   "source": [
    "cm = confusion_matrix(y_test, y_pred, labels= model.classes_)\n",
    "disp = ConfusionMatrixDisplay(cm)\n",
    "disp.plot()"
   ]
  },
  {
   "cell_type": "code",
   "execution_count": null,
   "id": "9fff3bd4-f03c-4342-961a-72fa3980501c",
   "metadata": {},
   "outputs": [],
   "source": []
  }
 ],
 "metadata": {
  "kernelspec": {
   "display_name": "Python 3 (ipykernel)",
   "language": "python",
   "name": "python3"
  },
  "language_info": {
   "codemirror_mode": {
    "name": "ipython",
    "version": 3
   },
   "file_extension": ".py",
   "mimetype": "text/x-python",
   "name": "python",
   "nbconvert_exporter": "python",
   "pygments_lexer": "ipython3",
   "version": "3.11.5"
  }
 },
 "nbformat": 4,
 "nbformat_minor": 5
}
